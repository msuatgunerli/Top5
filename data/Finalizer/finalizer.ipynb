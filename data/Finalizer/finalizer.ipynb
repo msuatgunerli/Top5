{
 "cells": [
  {
   "cell_type": "code",
   "execution_count": 1,
   "metadata": {},
   "outputs": [],
   "source": [
    "import pandas as pd\n",
    "import numpy as np\n",
    "import os\n",
    "Competition = 'Top 5 Leagues'"
   ]
  },
  {
   "cell_type": "code",
   "execution_count": 2,
   "metadata": {},
   "outputs": [
    {
     "name": "stdout",
     "output_type": "stream",
     "text": [
      "d:\\Desktop\\Programming\\GitHub\\msg\\Portfolio\\Soccer - FBref Top 5 App\\data\\Finalizer\n"
     ]
    }
   ],
   "source": [
    "os.chdir('../Combiner')\n",
    "df = pd.read_excel('Top 5 Leagues Player Stats All Time.xlsx')\n",
    "df.drop(['Unnamed: 0'], axis =1, inplace=True)\n",
    "df = df[df['Minutes Played'] >= 400]\n",
    "df.fillna(0, inplace=True)\n",
    "\n",
    "df_PAdj = pd.read_excel('Top 5 Leagues PAdj Player Stats All Time.xlsx')\n",
    "df_PAdj.drop(['Unnamed: 0'], axis=1, inplace=True)\n",
    "df_PAdj = df_PAdj[df_PAdj['Minutes Played'] >= 400]\n",
    "df_PAdj.fillna(0, inplace=True)\n",
    "\n",
    "os.chdir('../Finalizer')\n",
    "print(os.getcwd())"
   ]
  },
  {
   "cell_type": "code",
   "execution_count": 3,
   "metadata": {},
   "outputs": [],
   "source": [
    "# Average Competition Elo Ratings as of 02.11.2022 from http://clubelo.com\n",
    "# Elo = {'Elo_Eng' : 1769, 'Elo_Ger' : 1688, 'Elo_Spa' : 1703, 'Elo_Fra' : 1634, 'Elo_Ita' : 1641}\n",
    "# Elo_Max = max(Elo.values())\n",
    "# for i in Elo:\n",
    "#     Elo[i] = float(Elo[i]/Elo_Max)"
   ]
  },
  {
   "cell_type": "code",
   "execution_count": 4,
   "metadata": {},
   "outputs": [],
   "source": [
    "def dfcleaner(df):\n",
    "    leaguedict = {'Premier League' : 0, 'La Liga' : 0.25, 'Bundesliga' : 0.5, 'Serie A': 0.75, 'Ligue 1' : 1}\n",
    "    df = df.replace({\"Competition\": leaguedict})\n",
    "    df.set_index('Player_ID_Full', inplace = True)\n",
    "    df = df.select_dtypes(include=[np.number])"
   ]
  },
  {
   "cell_type": "code",
   "execution_count": 5,
   "metadata": {},
   "outputs": [],
   "source": [
    "df.to_excel(f\"{Competition} Raw Player Stats All Time.xlsx\")\n",
    "df_PAdj.to_excel(f\"{Competition} PAdj Player Stats All Time.xlsx\")"
   ]
  },
  {
   "cell_type": "code",
   "execution_count": 6,
   "metadata": {},
   "outputs": [],
   "source": [
    "# from sklearn.preprocessing import MinMaxScaler\n",
    "# from sklearn.preprocessing import minmax_scale\n",
    "\n",
    "# def dataframescaler(df, grouped = False):\n",
    "#     leaguedict = {'Premier League' : 0, 'La Liga' : 0.25, 'Bundesliga' : 0.5, 'Serie A': 0.75, 'Ligue 1' : 1}\n",
    "#     df = df.replace({\"Competition\": leaguedict})\n",
    "#     df.set_index('Player_ID_Full', inplace = True)\n",
    "#     scaler = MinMaxScaler()\n",
    "#     numeric = df.select_dtypes([np.number]).columns\n",
    "#     df = df.select_dtypes(include=[np.number])\n",
    "#     if grouped == False:\n",
    "#         df.drop(['Competition'], axis=1, inplace=True)\n",
    "#         dfscaled = pd.DataFrame(scaler.fit_transform(df), index=df.index, columns=df.columns)\n",
    "#     elif grouped == True:\n",
    "#         dfscaled = df.groupby('Competition').transform(lambda x: minmax_scale(x.astype(float)))\n",
    "#     return(dfscaled)\n"
   ]
  },
  {
   "cell_type": "code",
   "execution_count": 7,
   "metadata": {},
   "outputs": [],
   "source": [
    "# Raw Normal, Raw Scaled, Raw Scaled Indep\n",
    "# PAdj Normal, PAdj Scaled, PAdj Scaled Indep\n",
    "# scaled1 = dataframescaler(df=df, grouped=False)"
   ]
  }
 ],
 "metadata": {
  "interpreter": {
   "hash": "279bdcc4b1225994454319e249f14e065da38b0d63d0b800dd9b7ab4e1708574"
  },
  "kernelspec": {
   "display_name": "Python 3.9.1 64-bit",
   "language": "python",
   "name": "python3"
  },
  "language_info": {
   "codemirror_mode": {
    "name": "ipython",
    "version": 3
   },
   "file_extension": ".py",
   "mimetype": "text/x-python",
   "name": "python",
   "nbconvert_exporter": "python",
   "pygments_lexer": "ipython3",
   "version": "3.9.1"
  },
  "orig_nbformat": 4
 },
 "nbformat": 4,
 "nbformat_minor": 2
}
